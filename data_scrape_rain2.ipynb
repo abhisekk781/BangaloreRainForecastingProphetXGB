{
 "cells": [
  {
   "cell_type": "code",
   "execution_count": 2,
   "metadata": {},
   "outputs": [
    {
     "name": "stderr",
     "output_type": "stream",
     "text": [
      "[WDM] - Looking for [geckodriver v0.26.0 macos] driver in cache \n",
      "[WDM] - File found in cache by path [/Users/abhisekkumar/.wdm/drivers/geckodriver/v0.26.0/macos/geckodriver]\n"
     ]
    },
    {
     "name": "stdout",
     "output_type": "stream",
     "text": [
      "Scraping Completed..!!! Search for bangalore_rain2.csv\n"
     ]
    }
   ],
   "source": [
    "\n",
    "from selenium import webdriver\n",
    "from webdriver_manager.firefox import GeckoDriverManager\n",
    "from selenium.webdriver.common.by import By\n",
    "from selenium.webdriver.support.ui import WebDriverWait\n",
    "from selenium.webdriver.support import expected_conditions as EC\n",
    "import time\n",
    "firefox_profile = webdriver.FirefoxProfile()\n",
    "firefox_profile.set_preference(\"browser.privatebrowsing.autostart\", True)\n",
    "\n",
    "\n",
    "#Storing previous dates from current date\n",
    "def get_prev_dates(year,month,day):\n",
    "    from datetime import date, timedelta\n",
    "    dates=[]\n",
    "    sdate = date(int(year), int(month), int(day))   # start date\n",
    "    edate= date(2018, 10 ,14)\n",
    "    #edate = date.today()   # end date\n",
    "    delta = edate - sdate       # as timedelta\n",
    "    for i in range(delta.days):\n",
    "        d = sdate + timedelta(days=i)\n",
    "        dates.append(d.strftime('%Y-%m-%d'))\n",
    "\n",
    "    return dates[:-2]\n",
    "\n",
    "dates=get_prev_dates(2018,1,1)   \n",
    "#Create function to get only numbers/decimal values \n",
    "import re\n",
    "def remove_char(s):\n",
    "    new = ''\n",
    "    for letter in s:\n",
    "        if not(letter.isalpha()):\n",
    "            new+=letter\n",
    "    new = re.sub('[%/°]', '', new)\n",
    "    new = re.sub(' ', '', new)\n",
    "    return new \n",
    "\n",
    "#get the webpage\n",
    "try:\n",
    "    fox = webdriver.Firefox(executable_path=GeckoDriverManager().install(),firefox_profile=firefox_profile)\n",
    "    fox.get(\"https://www.worldweatheronline.com/lang/en-in/bangalore-weather-history/karnataka/in.aspx\")\n",
    "    fox.maximize_window() \n",
    "    fox.implicitly_wait(3)\n",
    "except Exception as e:\n",
    "            print('Error opening browser through selenium')\n",
    "\n",
    "#create dataframe\n",
    "import pandas as pd\n",
    "df=pd.DataFrame()\n",
    "data={}\n",
    "#looping through each date/page\n",
    "for date in dates:\n",
    "    try:\n",
    "        fox.find_element_by_css_selector('#ctl00_MainContentHolder_txtPastDate').send_keys(date)\n",
    "        fox.find_element_by_xpath('//*[@id=\"ctl00_MainContentHolder_butShowPastWeather\"]').click()\n",
    "        WebDriverWait(fox, 3).until(EC.presence_of_element_located((By.XPATH, '/html/body/form/div[4]/main/div[6]/div/div[2]/div[11]')))\n",
    "        time.sleep(2)\n",
    "        i=0\n",
    "        if int(date.split(\"-\")[0])==2020:\n",
    "            i=120\n",
    "        if int(date.split(\"-\")[0])==2019:\n",
    "            i=110\n",
    "        if int(date.split(\"-\")[0])==2018:\n",
    "            i=100\n",
    "        if int(date.split(\"-\")[0])==2017:\n",
    "            i=90\n",
    "        if int(date.split(\"-\")[0])==2016:\n",
    "            i=80\n",
    "        if int(date.split(\"-\")[0])==2015:\n",
    "            i=70    \n",
    "        if int(date.split(\"-\")[0])==2014:\n",
    "            i=60  \n",
    "        if int(date.split(\"-\")[0])==2013:\n",
    "            i=50  \n",
    "        if int(date.split(\"-\")[0])==2012:\n",
    "            i=40  \n",
    "        if int(date.split(\"-\")[0])==2011:\n",
    "            i=30   \n",
    "        if int(date.split(\"-\")[0])==2010:\n",
    "            i=20     \n",
    "        if int(date.split(\"-\")[0])==2009:\n",
    "            i=10    \n",
    "        data['Date']=date\n",
    "        data['Max_Temp(°c)']=float(remove_char(fox.find_element_by_xpath('/html/body/form/div[4]/main/div[6]/div/div[2]/div['+str(i+3)+']').text))\n",
    "        data['Min_Temp(°c)']=float(remove_char(fox.find_element_by_xpath('/html/body/form/div[4]/main/div[6]/div/div[2]/div['+str(i+4)+']').text))\n",
    "        data['Wind_Speed(Km/h)']=float(remove_char(fox.find_element_by_xpath('/html/body/form/div[4]/main/div[6]/div/div[2]/div['+str(i+5)+']').text))\n",
    "        data['Wind_Direction']=fox.find_element_by_xpath('/html/body/form/div[4]/main/div[6]/div/div[2]/div['+str(i+5)+']').text.split(\"\\n\")[-1]\n",
    "        data['Rain(mm)']=float(remove_char(fox.find_element_by_xpath('/html/body/form/div[4]/main/div[6]/div/div[2]/div['+str(i+6)+']').text))\n",
    "        data['Humidity(%)']=float(remove_char(fox.find_element_by_xpath('/html/body/form/div[4]/main/div[6]/div/div[2]/div['+str(i+7)+']').text))\n",
    "        data['Cloud_Density(%)']=float(remove_char(fox.find_element_by_xpath('/html/body/form/div[4]/main/div[6]/div/div[2]/div['+str(i+8)+']').text))\n",
    "        data['Atm_Pressure(mb)']=float(remove_char(fox.find_element_by_xpath('/html/body/form/div[4]/main/div[6]/div/div[2]/div['+str(i+9)+']').text))\n",
    "        df=df.append(data,ignore_index=True)\n",
    "        df.index+=1\n",
    "    except Exception as e:\n",
    "            print('Error: Data for particular date not availabel', date)\n",
    "            continue\n",
    "\n",
    "\n",
    "df.to_csv('bangalore_rain_data2.csv',index=False)\n",
    "print('Scraping Completed..!!!', 'Search for bangalore_rain2.csv')\n",
    "fox.quit()"
   ]
  },
  {
   "cell_type": "code",
   "execution_count": 4,
   "metadata": {},
   "outputs": [
    {
     "name": "stderr",
     "output_type": "stream",
     "text": [
      "/Users/abhisekkumar/Library/Python/3.6/lib/python/site-packages/ipykernel_launcher.py:3: FutureWarning: Sorting because non-concatenation axis is not aligned. A future version\n",
      "of pandas will change to not sort by default.\n",
      "\n",
      "To accept the future behavior, pass 'sort=True'.\n",
      "\n",
      "To retain the current behavior and silence the warning, pass sort=False\n",
      "\n",
      "  This is separate from the ipykernel package so we can avoid doing imports until\n"
     ]
    }
   ],
   "source": []
  },
  {
   "cell_type": "code",
   "execution_count": null,
   "metadata": {},
   "outputs": [],
   "source": []
  }
 ],
 "metadata": {
  "kernelspec": {
   "display_name": "Python 3",
   "language": "python",
   "name": "python3"
  },
  "language_info": {
   "codemirror_mode": {
    "name": "ipython",
    "version": 3
   },
   "file_extension": ".py",
   "mimetype": "text/x-python",
   "name": "python",
   "nbconvert_exporter": "python",
   "pygments_lexer": "ipython3",
   "version": "3.6.5"
  }
 },
 "nbformat": 4,
 "nbformat_minor": 4
}
